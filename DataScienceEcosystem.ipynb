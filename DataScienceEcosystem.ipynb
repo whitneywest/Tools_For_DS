{
 "cells": [
  {
   "cell_type": "markdown",
   "id": "81d9fbad",
   "metadata": {},
   "source": [
    "# Data Science Tools and Ecosystem"
   ]
  },
  {
   "cell_type": "markdown",
   "id": "31feac82",
   "metadata": {},
   "source": [
    "### In this notebook, Data Science Tools and Ecosystems are summarized"
   ]
  },
  {
   "cell_type": "markdown",
   "id": "19ae8172",
   "metadata": {},
   "source": [
    "**Objectives:**\n",
    "- List popular languages for Data Science\n",
    "- List commonly used libraries for Data Science\n",
    "- List an example for evaluating arithmetic expressions in Python\n",
    "- Show an example of converting minutes to hours"
   ]
  },
  {
   "cell_type": "markdown",
   "id": "b2d9c59b",
   "metadata": {},
   "source": [
    "Some of the popular languages that Data Scientist use are:"
   ]
  },
  {
   "cell_type": "markdown",
   "id": "6cda86fb",
   "metadata": {},
   "source": [
    "1. Python\n",
    "2. R\n",
    "3. SQL\n",
    "4. Java"
   ]
  },
  {
   "cell_type": "markdown",
   "id": "01b203fb",
   "metadata": {},
   "source": [
    "Some of the commonly used libraries used by Data Scientists include:"
   ]
  },
  {
   "cell_type": "markdown",
   "id": "28eefc91",
   "metadata": {},
   "source": [
    "1. Pandas\n",
    "2. NumPy\n",
    "3. SciPy\n",
    "4. Matplotlib\n",
    "5. PyTorch\n",
    "6. Keras\n",
    "7. ggplot"
   ]
  },
  {
   "cell_type": "markdown",
   "id": "47bd4f7b",
   "metadata": {},
   "source": [
    "| Data Science Tools |\n",
    "| ------------------ |\n",
    "| Apache Airflow |\n",
    "| PixieDust |\n",
    "| GitHub |\n",
    "| Apache Atlas |"
   ]
  },
  {
   "cell_type": "markdown",
   "id": "f451723c",
   "metadata": {},
   "source": [
    "### Below are a few examples of evaluating arithmetic expressions in Python"
   ]
  },
  {
   "cell_type": "code",
   "execution_count": 4,
   "id": "d2e65641",
   "metadata": {},
   "outputs": [
    {
     "data": {
      "text/plain": [
       "17"
      ]
     },
     "execution_count": 4,
     "metadata": {},
     "output_type": "execute_result"
    }
   ],
   "source": [
    "# This is a simple arightmetic expression to multiply then add integers\n",
    "(3*4) + 5"
   ]
  },
  {
   "cell_type": "code",
   "execution_count": 12,
   "id": "8b764953",
   "metadata": {},
   "outputs": [
    {
     "name": "stdout",
     "output_type": "stream",
     "text": [
      "3:20\n"
     ]
    }
   ],
   "source": [
    "# This will convert 200 minutes to hours by dividing by 60\n",
    "total_minutes = 200\n",
    "\n",
    "# Get hours with floor division\n",
    "hours =  total_minutes // 60\n",
    "\n",
    "#Get additional minutes with modulus\n",
    "minutes = total_minutes % 60\n",
    "\n",
    "# Create time as a string\n",
    "time_string = \"{}:{}\".format(hours, minutes)\n",
    "print(time_string)\n"
   ]
  },
  {
   "cell_type": "markdown",
   "id": "573d6958",
   "metadata": {},
   "source": [
    "##  Author\n",
    "## Whitney West"
   ]
  },
  {
   "cell_type": "code",
   "execution_count": null,
   "id": "c88bb722",
   "metadata": {},
   "outputs": [],
   "source": []
  }
 ],
 "metadata": {
  "kernelspec": {
   "display_name": "Python 3",
   "language": "python",
   "name": "python3"
  },
  "language_info": {
   "codemirror_mode": {
    "name": "ipython",
    "version": 3
   },
   "file_extension": ".py",
   "mimetype": "text/x-python",
   "name": "python",
   "nbconvert_exporter": "python",
   "pygments_lexer": "ipython3",
   "version": "3.8.8"
  }
 },
 "nbformat": 4,
 "nbformat_minor": 5
}
